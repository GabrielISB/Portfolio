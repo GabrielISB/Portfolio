{
 "cells": [
  {
   "cell_type": "markdown",
   "metadata": {},
   "source": [
    "# Class project - Linear Function"
   ]
  },
  {
   "cell_type": "markdown",
   "metadata": {},
   "source": [
    "Gabriel Isaías Salazar Bustillos \\t\n",
    "Profesor: Romeo De Coss"
   ]
  },
  {
   "cell_type": "code",
   "execution_count": 1,
   "metadata": {},
   "outputs": [],
   "source": [
    "import pandas as pd \n",
    "import numpy as np\n",
    "import matplotlib.pyplot as plt"
   ]
  },
  {
   "cell_type": "code",
   "execution_count": 35,
   "metadata": {},
   "outputs": [],
   "source": [
    "class LinearRegression:\n",
    "    def __init__(self):\n",
    "        \n",
    "        self.coef = None\n",
    "        self.intercept = None\n",
    "        self.fit_intercept = None\n",
    "        self.fitted_Data = None \n",
    "        self.predicted_Data = None\n",
    "        \n",
    "    def fit (self, x, y):\n",
    "        \n",
    "        x_mean = np.mean(x)\n",
    "        y_mean = np.mean(y)\n",
    "        \n",
    "        \n",
    "        b1 = np.sum(y*(x - x_mean)) / np.sum(x*(x - x_mean))\n",
    "        b0 = y_mean - b1*x_mean\n",
    "        \n",
    "        self.coef = b1\n",
    "        self.intercept = b0\n",
    "        \n",
    "        self.fitted_Data = np.array([x, y])\n",
    "        \n",
    "        print(f'The coefficient is {self.coef} and the intercept is {self.intercept}')\n",
    "        print(f' Y = {self.intercept} + {self.coef}x')\n",
    "  \n",
    "    def predict(self, x_pred, origin):\n",
    "        \n",
    "        self.fit_intercept = origin #Boolean\n",
    "        \n",
    "        if(self.fit_intercept == False):\n",
    "        \n",
    "            prediction = self.intercept + self.coef * x_pred\n",
    "        \n",
    "            self.predicted_Data = prediction\n",
    "             \n",
    "            print(\"Does not cross through the origin\")\n",
    "                \n",
    "            return self.predicted_Data\n",
    "            \n",
    "        else:\n",
    "            \n",
    "            prediction = 0  + self.coef*x_pred\n",
    "            \n",
    "            self.predicted_Data = prediction\n",
    "    \n",
    "            print(\"Cross through the origin\")\n",
    "        \n",
    "            return self.predicted_Data\n",
    "    \n",
    "    def plot_fitted(self, reference):\n",
    "\n",
    "        plt.figure(figsize=(10,5))\n",
    "        plt.title(\"Real Values VS Predicted Values\")\n",
    "        plt.scatter(self.predicted_Data, y, color = 'black')\n",
    "        plt.xlim(self.predicted_Data.min()-0.5, self.predicted_Data.max()+0.5)\n",
    "        plt.ylim(y.min()-0.5, y.max()+0.5)\n",
    "        plt.xlabel(\" Predicted Values\")\n",
    "        plt.ylabel(\" Real Values\")\n",
    "        plt.tight_layout()\n",
    "        \n",
    "        if(reference == True):\n",
    "            plt.plot([self.predicted_Data.min(), self.predicted_Data.max()], [y.min(), y.max()], linestyle = 'solid', color='red', label=\"X=Y Reference\")\n",
    "            plt.legend()\n",
    "        else:\n",
    "            print(\"Only Y_real vs Y_predicted shown, not X=Y line reference included\")\n",
    "            \n",
    "    def plot_residuals(self):\n",
    "        \n",
    "        residuals = y - self.predicted_Data \n",
    "        \n",
    "        plt.figure(figsize=(10,5))\n",
    "        plt.title(\"Predicted Values VS Residuals\")\n",
    "        plt.scatter(self.predicted_Data, residuals, color='black')\n",
    "        plt.hlines(0, self.predicted_Data.min(), self.predicted_Data.max(), color='red', label=\"Half Line\")\n",
    "        plt.xlabel(\"Predicted Values\")\n",
    "        plt.ylabel(\"Residual Values\")\n",
    "        plt.tight_layout()\n",
    "        plt.legend()\n",
    "        plt.show()\n",
    "        \n",
    "    def RMSE(self):\n",
    "        \n",
    "        n = len(x)\n",
    "        rmse = np.sum((self.predicted_Data - y)**2)\n",
    "        \n",
    "        rmse = np.sqrt(rmse/n)\n",
    "        \n",
    "        return rmse\n",
    "    \n",
    "    def R2(self):\n",
    "        y_mean = np.mean(y)\n",
    "        r2 = 1 - (np.sum((y - self.predicted_Data)**2) / np.sum((y - y_mean)**2))\n",
    "\n",
    "        return r2\n",
    "    \n",
    "    def MAE(self):\n",
    "        n = len(x)\n",
    "        \n",
    "        mae = np.sum(self.predicted_Data - y) / n\n",
    "        \n",
    "        return mae\n",
    "        "
   ]
  },
  {
   "cell_type": "code",
   "execution_count": 48,
   "metadata": {},
   "outputs": [
    {
     "name": "stdout",
     "output_type": "stream",
     "text": [
      "The coefficient is 2.0109035150966323 and the intercept is 4.536872914298466\n",
      " Y = 4.536872914298466 + 2.0109035150966323x\n"
     ]
    }
   ],
   "source": [
    "hola = LinearRegression()\n",
    "\n",
    "x = np.random.rand(60) #Generating the random points\n",
    "y = 4 + 2*x + np.random.rand(60)  #Aligning the Y random points in order to make an ideal linear regression\n",
    "\n",
    "#You can change the previous values by any you want\n",
    "\n",
    "hola.fit(x, y)\n"
   ]
  },
  {
   "cell_type": "code",
   "execution_count": 49,
   "metadata": {},
   "outputs": [],
   "source": [
    "x_predicted = np.random.rand(60)"
   ]
  },
  {
   "cell_type": "code",
   "execution_count": 50,
   "metadata": {},
   "outputs": [
    {
     "name": "stdout",
     "output_type": "stream",
     "text": [
      "Does not cross through the origin\n"
     ]
    },
    {
     "data": {
      "text/plain": [
       "array([5.4658968 , 5.65996742, 5.70011662, 5.60842744, 5.99151824,\n",
       "       4.77565358, 5.04144273, 5.50717495, 5.59821504, 5.98466631,\n",
       "       4.60914351, 5.90152353, 6.47759683, 5.70656502, 6.06436033,\n",
       "       5.40177066, 5.20708873, 5.84316275, 4.5807075 , 6.27261538,\n",
       "       5.3902343 , 6.03072361, 5.81753757, 4.78236982, 5.24203363,\n",
       "       6.47032893, 5.67076901, 5.2956259 , 6.54341794, 4.66669245,\n",
       "       5.89526634, 5.77292371, 4.82986679, 5.0609498 , 6.39955144,\n",
       "       6.5166086 , 4.90137797, 4.92820039, 5.88454362, 5.0061978 ,\n",
       "       4.56207838, 5.10299159, 6.11375067, 5.4717753 , 5.46242126,\n",
       "       4.55007668, 6.18578131, 4.97954021, 4.79869609, 5.02725247,\n",
       "       5.88431127, 5.5664481 , 6.50828161, 5.37502801, 5.68889869,\n",
       "       5.10472377, 6.35484354, 5.82241985, 4.90207874, 5.17620064])"
      ]
     },
     "execution_count": 50,
     "metadata": {},
     "output_type": "execute_result"
    }
   ],
   "source": [
    "hola.predict(x_predicted, False) #The boolean chooses if the prediction crosses throught the origin (0,0)\n",
    "\n",
    "#Fasle means that it does not cross \n",
    "#True means that it actually crosses"
   ]
  },
  {
   "cell_type": "code",
   "execution_count": 51,
   "metadata": {},
   "outputs": [
    {
     "data": {
      "image/png": "[encoded data removed]",
      "text/plain": [
       "<Figure size 720x360 with 1 Axes>"
      ]
     },
     "metadata": {
      "needs_background": "light"
     },
     "output_type": "display_data"
    }
   ],
   "source": [
    "hola.plot_fitted(True) "
   ]
  },
  {
   "cell_type": "code",
   "execution_count": 52,
   "metadata": {},
   "outputs": [
    {
     "data": {
      "image/png": "[encoded data removed]",
      "text/plain": [
       "<Figure size 720x360 with 1 Axes>"
      ]
     },
     "metadata": {
      "needs_background": "light"
     },
     "output_type": "display_data"
    }
   ],
   "source": [
    "hola.plot_residuals()"
   ]
  },
  {
   "cell_type": "code",
   "execution_count": 53,
   "metadata": {},
   "outputs": [
    {
     "data": {
      "text/plain": [
       "0.6990549473757287"
      ]
     },
     "execution_count": 53,
     "metadata": {},
     "output_type": "execute_result"
    }
   ],
   "source": [
    "hola.RMSE()"
   ]
  },
  {
   "cell_type": "code",
   "execution_count": 54,
   "metadata": {},
   "outputs": [
    {
     "data": {
      "text/plain": [
       "-0.5389927572962818"
      ]
     },
     "execution_count": 54,
     "metadata": {},
     "output_type": "execute_result"
    }
   ],
   "source": [
    "hola.R2()"
   ]
  },
  {
   "cell_type": "code",
   "execution_count": 55,
   "metadata": {},
   "outputs": [
    {
     "data": {
      "text/plain": [
       "0.014959598107329341"
      ]
     },
     "execution_count": 55,
     "metadata": {},
     "output_type": "execute_result"
    }
   ],
   "source": [
    "hola.MAE()"
   ]
  },
  {
   "cell_type": "code",
   "execution_count": null,
   "metadata": {},
   "outputs": [],
   "source": []
  }
 ],
 "metadata": {
  "kernelspec": {
   "display_name": "Python 3",
   "language": "python",
   "name": "python3"
  },
  "language_info": {
   "codemirror_mode": {
    "name": "ipython",
    "version": 3
   },
   "file_extension": ".py",
   "mimetype": "text/x-python",
   "name": "python",
   "nbconvert_exporter": "python",
   "pygments_lexer": "ipython3",
   "version": "3.8.3"
  }
 },
 "nbformat": 4,
 "nbformat_minor": 4
}
