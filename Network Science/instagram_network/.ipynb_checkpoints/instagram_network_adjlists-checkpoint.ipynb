{
 "cells": [
  {
   "cell_type": "markdown",
   "metadata": {},
   "source": [
    "# Get whole instagram network adjlists"
   ]
  },
  {
   "cell_type": "code",
   "execution_count": null,
   "metadata": {},
   "outputs": [],
   "source": [
    "#!pip install selenium==3.141.0"
   ]
  },
  {
   "cell_type": "code",
   "execution_count": 2,
   "metadata": {},
   "outputs": [
    {
     "name": "stdout",
     "output_type": "stream",
     "text": [
      "Collecting pyvis\n",
      "  Downloading pyvis-0.2.1.tar.gz (21 kB)\n",
      "Requirement already satisfied: jinja2>=2.9.6 in c:\\users\\gabri\\anaconda3\\lib\\site-packages (from pyvis) (2.11.2)\n",
      "Requirement already satisfied: networkx>=1.11 in c:\\users\\gabri\\anaconda3\\lib\\site-packages (from pyvis) (2.8.4)\n",
      "Requirement already satisfied: ipython>=5.3.0 in c:\\users\\gabri\\anaconda3\\lib\\site-packages (from pyvis) (7.16.1)\n",
      "Collecting jsonpickle>=1.4.1\n",
      "  Downloading jsonpickle-2.2.0-py2.py3-none-any.whl (39 kB)\n",
      "Requirement already satisfied: MarkupSafe>=0.23 in c:\\users\\gabri\\anaconda3\\lib\\site-packages (from jinja2>=2.9.6->pyvis) (1.1.1)\n",
      "Requirement already satisfied: backcall in c:\\users\\gabri\\anaconda3\\lib\\site-packages (from ipython>=5.3.0->pyvis) (0.2.0)\n",
      "Requirement already satisfied: setuptools>=18.5 in c:\\users\\gabri\\anaconda3\\lib\\site-packages (from ipython>=5.3.0->pyvis) (49.2.0.post20200714)\n",
      "Requirement already satisfied: traitlets>=4.2 in c:\\users\\gabri\\anaconda3\\lib\\site-packages (from ipython>=5.3.0->pyvis) (4.3.3)\n",
      "Requirement already satisfied: prompt-toolkit!=3.0.0,!=3.0.1,<3.1.0,>=2.0.0 in c:\\users\\gabri\\anaconda3\\lib\\site-packages (from ipython>=5.3.0->pyvis) (3.0.5)\n",
      "Requirement already satisfied: jedi>=0.10 in c:\\users\\gabri\\anaconda3\\lib\\site-packages (from ipython>=5.3.0->pyvis) (0.17.1)\n",
      "Requirement already satisfied: pygments in c:\\users\\gabri\\anaconda3\\lib\\site-packages (from ipython>=5.3.0->pyvis) (2.6.1)\n",
      "Requirement already satisfied: colorama; sys_platform == \"win32\" in c:\\users\\gabri\\anaconda3\\lib\\site-packages (from ipython>=5.3.0->pyvis) (0.4.3)\n",
      "Requirement already satisfied: pickleshare in c:\\users\\gabri\\anaconda3\\lib\\site-packages (from ipython>=5.3.0->pyvis) (0.7.5)\n",
      "Requirement already satisfied: decorator in c:\\users\\gabri\\anaconda3\\lib\\site-packages (from ipython>=5.3.0->pyvis) (4.4.2)\n",
      "Requirement already satisfied: six in c:\\users\\gabri\\anaconda3\\lib\\site-packages (from traitlets>=4.2->ipython>=5.3.0->pyvis) (1.15.0)\n",
      "Requirement already satisfied: ipython-genutils in c:\\users\\gabri\\anaconda3\\lib\\site-packages (from traitlets>=4.2->ipython>=5.3.0->pyvis) (0.2.0)\n",
      "Requirement already satisfied: wcwidth in c:\\users\\gabri\\anaconda3\\lib\\site-packages (from prompt-toolkit!=3.0.0,!=3.0.1,<3.1.0,>=2.0.0->ipython>=5.3.0->pyvis) (0.2.5)\n",
      "Requirement already satisfied: parso<0.8.0,>=0.7.0 in c:\\users\\gabri\\anaconda3\\lib\\site-packages (from jedi>=0.10->ipython>=5.3.0->pyvis) (0.7.0)\n",
      "Building wheels for collected packages: pyvis\n",
      "  Building wheel for pyvis (setup.py): started\n",
      "  Building wheel for pyvis (setup.py): finished with status 'done'\n",
      "  Created wheel for pyvis: filename=pyvis-0.2.1-py3-none-any.whl size=23670 sha256=b5b67250c9f99ad24a32f29a46e29d7f1a55c02b475942e3b2603d09f9f14845\n",
      "  Stored in directory: c:\\users\\gabri\\appdata\\local\\pip\\cache\\wheels\\78\\bb\\02\\40c79afcad1a632f7905a585ed3c5881737550400ff74ab6b5\n",
      "Successfully built pyvis\n",
      "Installing collected packages: jsonpickle, pyvis\n",
      "Successfully installed jsonpickle-2.2.0 pyvis-0.2.1\n"
     ]
    }
   ],
   "source": [
    "#!pip install pyvis"
   ]
  },
  {
   "cell_type": "code",
   "execution_count": 3,
   "metadata": {},
   "outputs": [],
   "source": [
    "import time\n",
    "from functools import reduce\n",
    "from selenium import webdriver\n",
    "from selenium.webdriver.common.by import By\n",
    "from selenium.webdriver.support.wait import WebDriverWait\n",
    "from selenium.webdriver.support import expected_conditions as EC\n",
    "import networkx as nx\n",
    "from pyvis.network import Network\n",
    "import matplotlib.pyplot as plt\n",
    "from matplotlib.pyplot import figure"
   ]
  },
  {
   "cell_type": "code",
   "execution_count": 4,
   "metadata": {},
   "outputs": [],
   "source": [
    "#READ CREDENTIALS AND USER PROFILE\n",
    "config=open(\"instagram_scrapper_conf.txt\",\"r\")\n",
    "lines=config.readlines()\n",
    "USERNAME=lines[0].split(\"USER_EMAIL=\")[1].replace(\"\\n\",\"\")\n",
    "PASSWORD=lines[1].split(\"USER_PASSWORD=\")[1].replace(\"\\n\",\"\")\n",
    "PATH=lines[2].split(\"PATH=\")[1].replace(\"\\n\",\"\")\n",
    "config.close()"
   ]
  },
  {
   "cell_type": "code",
   "execution_count": 5,
   "metadata": {},
   "outputs": [],
   "source": [
    "driver = webdriver.Chrome(executable_path = PATH)\n",
    "driver.maximize_window()\n",
    "url=\"https://www.instagram.com\"\n",
    "driver.get(url)\n",
    "time.sleep(3)\n",
    "#refresh_if_not_loaded(driver, \"//input[contains(@name,'username')]\")\n",
    "driver.find_element_by_xpath(\n",
    "        \"//input[contains(@name,'username')]\").send_keys(USERNAME) # Sending Email\n",
    "driver.find_element_by_xpath(\n",
    "        \"//input[@name='password']\").send_keys(PASSWORD) # Sending Password\n",
    "driver.find_element_by_xpath(\"//button[@class='sqdOP  L3NKy   y3zKF     ']\").click() # Clicking Log In\n",
    "time.sleep(5)\n",
    "driver.find_element_by_xpath(\"//button[normalize-space()='Ahora no']\").click()\n",
    "time.sleep(5)\n",
    "driver.find_element_by_xpath(\"//button[normalize-space()='Ahora no']\").click()"
   ]
  },
  {
   "cell_type": "code",
   "execution_count": 13,
   "metadata": {},
   "outputs": [],
   "source": [
    "def get_count():\n",
    "    \"\"\"Get number of both followers and following\"\"\"\n",
    "    \n",
    "    follower_count=driver.find_element_by_xpath(\n",
    "    \"(//div[@class='_aacl _aacp _aacu _aacx _aad6 _aade'])[2]\")\n",
    "    following_count=driver.find_element_by_xpath(\n",
    "    \"(//div[@class='_aacl _aacp _aacu _aacx _aad6 _aade'])[3]\")\n",
    "    followers=int(follower_count.text.replace(\",\", \"\").split(\" \")[0])\n",
    "    following=int(following_count.text.replace(\",\", \"\").split(\" \")[0])\n",
    "    return followers, following"
   ]
  },
  {
   "cell_type": "code",
   "execution_count": 14,
   "metadata": {},
   "outputs": [],
   "source": [
    "def get_people_list(XPATH):\n",
    "    \"\"\"\"\"\"\n",
    "    scrollable=driver.find_element_by_xpath(\n",
    "                \"//div[contains(@class,'_aano')]\")\n",
    "    list_of_people = []\n",
    "    while True:\n",
    "        scroll_size=driver.execute_script(\"return document.querySelector('._aano').scrollHeight\")\n",
    "        driver.execute_script('arguments[0].scrollTop = arguments[0].scrollHeight', scrollable)\n",
    "        time.sleep(2)\n",
    "        new_scroll_size=driver.execute_script(\"return document.querySelector('._aano').scrollHeight\")\n",
    "        if new_scroll_size==scroll_size:\n",
    "            break \n",
    "    list_of_people=driver.find_elements_by_xpath(XPATH)\n",
    "    \n",
    "    final_list=[]\n",
    "    for ele in list_of_people:\n",
    "        final_list.append(str(ele.text))\n",
    "        \n",
    "    return final_list"
   ]
  },
  {
   "cell_type": "code",
   "execution_count": 15,
   "metadata": {},
   "outputs": [],
   "source": [
    "def get_people(profile):\n",
    "    \"\"\"\"\"\"\n",
    "    driver.get(\"https://www.instagram.com/{}/\".format(profile))\n",
    "    WebDriverWait(driver, 10).until(EC.presence_of_element_located((By.XPATH, \"(//div[@class='_aacl _aacp _aacu _aacx _aad6 _aade'])[2]\")))\n",
    "    followers, following = get_count()\n",
    "    #print(followers,following)\n",
    "    \n",
    "    # Get followers\n",
    "    driver.get(\"https://www.instagram.com/{}/followers\".format(profile))\n",
    "    WebDriverWait(driver, 10).until(EC.presence_of_element_located((By.XPATH, \"//div[contains(@class,'_aano')]\")))\n",
    "    list_of_followers = get_people_list(\"//span[contains(@class,'_aacl _aaco _aacw _aacx _aad7 _aade')]\")\n",
    "    \n",
    "    # Get following\n",
    "    driver.get(\"https://www.instagram.com/{}/following/\".format(profile))\n",
    "    WebDriverWait(driver, 10).until(EC.presence_of_element_located((By.XPATH, \"//div[contains(@class,'_aano')]\")))\n",
    "    list_of_following = get_people_list(\"//span[contains(@class,'_aacl _aaco _aacw _aacx _aad7 _aade')]\")\n",
    "    \n",
    "    return list_of_followers, list_of_following"
   ]
  },
  {
   "cell_type": "code",
   "execution_count": 16,
   "metadata": {},
   "outputs": [],
   "source": [
    "def get_intersection(list_of_followers, list_of_following):\n",
    "    A=set(list_of_followers)\n",
    "    B=set(list_of_following)\n",
    "    return list(A.intersection(B))"
   ]
  },
  {
   "cell_type": "code",
   "execution_count": 17,
   "metadata": {},
   "outputs": [],
   "source": [
    "def generate_file(profile, intersection):\n",
    "    f = open(\"adjlists/\" + profile+\".adjlist\", \"w\")\n",
    "    for ele in intersection:\n",
    "        f.write(profile + \" \" + ele + \"\\n\")\n",
    "    f.close()"
   ]
  },
  {
   "cell_type": "code",
   "execution_count": 18,
   "metadata": {},
   "outputs": [],
   "source": [
    "def generate_network(profile):\n",
    "    \"\"\" \"\"\"\n",
    "    list_of_followers, list_of_following = get_people(profile)\n",
    "    intersection=get_intersection(list_of_followers, list_of_following)\n",
    "    generate_file(profile,intersection)\n",
    "    G = nx.read_adjlist(\"adjlists/\" + \"{}.adjlist\".format(profile))\n",
    "    \n",
    "    for ele in intersection:\n",
    "        try:\n",
    "            list_of_followers, list_of_following = get_people(ele)\n",
    "            new_intersection=get_intersection(list_of_followers, list_of_following)\n",
    "            generate_file(ele, new_intersection)\n",
    "            Ga = nx.read_adjlist(\"adjlists/\" + \"{}.adjlist\".format(ele))\n",
    "            G.add_edges_from(Ga.edges)\n",
    "        except:\n",
    "            continue\n",
    "    return G"
   ]
  },
  {
   "cell_type": "code",
   "execution_count": 19,
   "metadata": {},
   "outputs": [],
   "source": [
    "# MAIN\n",
    "if __name__ == '__main__':\n",
    "    Graph = generate_network(\"gabosalazarb\")\n",
    "    nx.write_adjlist(Graph, \"whole_network.adjlist\")\n",
    "    nt = Network('900px', '1500px')\n",
    "    nt.from_nx(Graph)\n",
    "    nt.show('whole_network.html')\n",
    "    driver.close()"
   ]
  },
  {
   "cell_type": "code",
   "execution_count": null,
   "metadata": {},
   "outputs": [],
   "source": []
  }
 ],
 "metadata": {
  "kernelspec": {
   "display_name": "Python 3",
   "language": "python",
   "name": "python3"
  },
  "language_info": {
   "codemirror_mode": {
    "name": "ipython",
    "version": 3
   },
   "file_extension": ".py",
   "mimetype": "text/x-python",
   "name": "python",
   "nbconvert_exporter": "python",
   "pygments_lexer": "ipython3",
   "version": "3.8.3"
  },
  "vscode": {
   "interpreter": {
    "hash": "b1784da4c01004e8c1caa7cdbf1c00d8b3cf0dbe266eb1e94898fa2c0ce781e3"
   }
  }
 },
 "nbformat": 4,
 "nbformat_minor": 5
}
